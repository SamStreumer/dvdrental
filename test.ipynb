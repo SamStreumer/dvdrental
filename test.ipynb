{
 "cells": [
  {
   "cell_type": "code",
   "execution_count": 1,
   "metadata": {},
   "outputs": [
    {
     "name": "stdout",
     "output_type": "stream",
     "text": [
      "Tabellen in DuckDB:\n",
      "- address\n",
      "- address_raw\n",
      "- city\n",
      "- city_raw\n",
      "- country\n",
      "- country_raw\n",
      "- customer\n",
      "- customer_raw\n",
      "- payment\n",
      "- payment_raw\n"
     ]
    }
   ],
   "source": [
    "import duckdb\n",
    "\n",
    "# Verbind met DuckDB\n",
    "con = duckdb.connect(\"/Users/samstreumer/Documents/SchoolFolder/dvdrental/dvdrental/dvdrental.duckdb\")\n",
    "\n",
    "# Wat zit er in de database?\n",
    "print(\"Tabellen in DuckDB:\")\n",
    "tables = con.execute(\"SHOW TABLES\").fetchall()\n",
    "for table in tables:\n",
    "    print(f\"- {table[0]}\")\n",
    "\n",
    "con.close()"
   ]
  },
  {
   "cell_type": "code",
   "execution_count": 12,
   "metadata": {},
   "outputs": [
    {
     "name": "stdout",
     "output_type": "stream",
     "text": [
      "\u001b[0m11:22:15  Running with dbt=1.9.8\n",
      "\u001b[0m11:22:16  Registered adapter: duckdb=1.9.3\n",
      "\u001b[0m11:22:16  Unable to do partial parsing because of a version mismatch\n",
      "\u001b[0m11:22:16  Found 7 models, 5 sources, 428 macros\n",
      "\u001b[0m11:22:16  \n",
      "\u001b[0m11:22:16  Concurrency: 1 threads (target='dev')\n",
      "\u001b[0m11:22:16  \n",
      "\u001b[0m11:22:16  1 of 7 START sql table model main_dim.Dim_Customer ............................. [RUN]\n",
      "\u001b[0m11:22:17  1 of 7 OK created sql table model main_dim.Dim_Customer ........................ [\u001b[32mOK\u001b[0m in 0.09s]\n",
      "\u001b[0m11:22:17  2 of 7 START sql table model main_fct.Fact_Payment ............................. [RUN]\n",
      "\u001b[0m11:22:17  2 of 7 OK created sql table model main_fct.Fact_Payment ........................ [\u001b[32mOK\u001b[0m in 0.02s]\n",
      "\u001b[0m11:22:17  3 of 7 START sql view model main.address_raw ................................... [RUN]\n",
      "\u001b[0m11:22:17  3 of 7 OK created sql view model main.address_raw .............................. [\u001b[32mOK\u001b[0m in 0.03s]\n",
      "\u001b[0m11:22:17  4 of 7 START sql view model main.city_raw ...................................... [RUN]\n",
      "\u001b[0m11:22:17  4 of 7 OK created sql view model main.city_raw ................................. [\u001b[32mOK\u001b[0m in 0.02s]\n",
      "\u001b[0m11:22:17  5 of 7 START sql view model main.country_raw ................................... [RUN]\n",
      "\u001b[0m11:22:17  5 of 7 OK created sql view model main.country_raw .............................. [\u001b[32mOK\u001b[0m in 0.02s]\n",
      "\u001b[0m11:22:17  6 of 7 START sql view model main.customer_raw .................................. [RUN]\n",
      "\u001b[0m11:22:17  6 of 7 OK created sql view model main.customer_raw ............................. [\u001b[32mOK\u001b[0m in 0.02s]\n",
      "\u001b[0m11:22:17  7 of 7 START sql view model main.payment_raw ................................... [RUN]\n",
      "\u001b[0m11:22:17  7 of 7 OK created sql view model main.payment_raw .............................. [\u001b[32mOK\u001b[0m in 0.02s]\n",
      "\u001b[0m11:22:17  \n",
      "\u001b[0m11:22:17  Finished running 2 table models, 5 view models in 0 hours 0 minutes and 0.31 seconds (0.31s).\n",
      "\u001b[0m11:22:17  \n",
      "\u001b[0m11:22:17  \u001b[32mCompleted successfully\u001b[0m\n",
      "\u001b[0m11:22:17  \n",
      "\u001b[0m11:22:17  Done. PASS=7 WARN=0 ERROR=0 SKIP=0 TOTAL=7\n"
     ]
    }
   ],
   "source": [
    "!cd /Users/samstreumer/Documents/SchoolFolder/dvdrental/dvdrental && dbt run"
   ]
  },
  {
   "cell_type": "code",
   "execution_count": 13,
   "metadata": {},
   "outputs": [
    {
     "name": "stdout",
     "output_type": "stream",
     "text": [
      "Schema's en tabellen:\n",
      "main.address\n",
      "main.address_raw\n",
      "main.city\n",
      "main.city_raw\n",
      "main.country\n",
      "main.country_raw\n",
      "main.customer\n",
      "main.customer_raw\n",
      "main.payment\n",
      "main.payment_raw\n",
      "\n",
      "Voorbeeld Dim_Customer:\n",
      "   customer_id  store_id first_name last_name  \\\n",
      "0            1         1       Mary     Smith   \n",
      "1            2         1   Patricia   Johnson   \n",
      "2            3         1      Linda  Williams   \n",
      "\n",
      "                                 email  activebool            address zipcode  \\\n",
      "0        mary.smith@sakilacustomer.org        True     1913 Hanoi Way   35200   \n",
      "1  patricia.johnson@sakilacustomer.org        True   1121 Loja Avenue   17886   \n",
      "2    linda.williams@sakilacustomer.org        True  692 Joliet Street   83579   \n",
      "\n",
      "             city        country    district  \n",
      "0          Sasebo          Japan    Nagasaki  \n",
      "1  San Bernardino  United States  California  \n",
      "2         Athenai         Greece      Attika  \n"
     ]
    }
   ],
   "source": [
    "import duckdb\n",
    "\n",
    "con = duckdb.connect(\"/Users/samstreumer/Documents/SchoolFolder/dvdrental/dvdrental/dvdrental.duckdb\")\n",
    "\n",
    "# Check de schema's\n",
    "print(\"Schema's en tabellen:\")\n",
    "result = con.execute(\"\"\"\n",
    "    SELECT table_schema, table_name \n",
    "    FROM information_schema.tables \n",
    "    WHERE table_schema IN ('main', 'dim', 'fct')\n",
    "    ORDER BY table_schema, table_name\n",
    "\"\"\").fetchall()\n",
    "\n",
    "for schema, table in result:\n",
    "    print(f\"{schema}.{table}\")\n",
    "\n",
    "# Kijk naar een paar records van de dimensie\n",
    "print(\"\\nVoorbeeld Dim_Customer:\")\n",
    "print(con.execute(\"SELECT * FROM main_dim.Dim_Customer LIMIT 3\").fetchdf())\n",
    "\n",
    "con.close()"
   ]
  },
  {
   "cell_type": "code",
   "execution_count": 14,
   "metadata": {},
   "outputs": [
    {
     "name": "stdout",
     "output_type": "stream",
     "text": [
      "Dim_Customer structuur:\n"
     ]
    },
    {
     "ename": "ConnectionException",
     "evalue": "Connection Error: Connection already closed!",
     "output_type": "error",
     "traceback": [
      "\u001b[0;31m---------------------------------------------------------------------------\u001b[0m",
      "\u001b[0;31mConnectionException\u001b[0m                       Traceback (most recent call last)",
      "Cell \u001b[0;32mIn[14], line 3\u001b[0m\n\u001b[1;32m      1\u001b[0m \u001b[38;5;66;03m# Check de Dim_Customer tabel (let op: in main schema)\u001b[39;00m\n\u001b[1;32m      2\u001b[0m \u001b[38;5;28mprint\u001b[39m(\u001b[38;5;124m\"\u001b[39m\u001b[38;5;124mDim_Customer structuur:\u001b[39m\u001b[38;5;124m\"\u001b[39m)\n\u001b[0;32m----> 3\u001b[0m \u001b[38;5;28mprint\u001b[39m(\u001b[43mcon\u001b[49m\u001b[38;5;241;43m.\u001b[39;49m\u001b[43mexecute\u001b[49m\u001b[43m(\u001b[49m\u001b[38;5;124;43m\"\u001b[39;49m\u001b[38;5;124;43mSELECT * FROM main.Dim_Customer LIMIT 3\u001b[39;49m\u001b[38;5;124;43m\"\u001b[39;49m\u001b[43m)\u001b[49m\u001b[38;5;241m.\u001b[39mfetchdf())\n\u001b[1;32m      5\u001b[0m \u001b[38;5;66;03m# Check de Fact_Payment tabel\u001b[39;00m\n\u001b[1;32m      6\u001b[0m \u001b[38;5;28mprint\u001b[39m(\u001b[38;5;124m\"\u001b[39m\u001b[38;5;130;01m\\n\u001b[39;00m\u001b[38;5;124mFact_Payment structuur:\u001b[39m\u001b[38;5;124m\"\u001b[39m)\n",
      "\u001b[0;31mConnectionException\u001b[0m: Connection Error: Connection already closed!"
     ]
    }
   ],
   "source": [
    "# Check de Dim_Customer tabel (let op: in main schema)\n",
    "print(\"Dim_Customer structuur:\")\n",
    "print(con.execute(\"SELECT * FROM main.Dim_Customer LIMIT 3\").fetchdf())\n",
    "\n",
    "# Check de Fact_Payment tabel\n",
    "print(\"\\nFact_Payment structuur:\")\n",
    "print(con.execute(\"SELECT * FROM main.Fact_Payment LIMIT 3\").fetchdf())"
   ]
  },
  {
   "cell_type": "code",
   "execution_count": 7,
   "metadata": {},
   "outputs": [
    {
     "name": "stdout",
     "output_type": "stream",
     "text": [
      "Core:\n",
      "  - installed: 1.9.8\n",
      "  - latest:    1.9.8 - \u001b[32mUp to date!\u001b[0m\n",
      "\n",
      "Plugins:\n",
      "  - postgres: 1.9.0 - \u001b[32mUp to date!\u001b[0m\n",
      "  - duckdb:   1.9.3 - \u001b[32mUp to date!\u001b[0m\n",
      "\n",
      "\n"
     ]
    }
   ],
   "source": [
    "!dbt --version"
   ]
  },
  {
   "cell_type": "code",
   "execution_count": 9,
   "metadata": {},
   "outputs": [
    {
     "name": "stdout",
     "output_type": "stream",
     "text": [
      "\u001b[0m11:18:36  Running with dbt=1.9.8\n",
      "\u001b[0m11:18:36  dbt version: 1.9.8\n",
      "\u001b[0m11:18:36  python version: 3.10.0\n",
      "\u001b[0m11:18:36  python path: /Users/samstreumer/.pyenv/versions/3.10.0/bin/python\n",
      "\u001b[0m11:18:36  os info: macOS-14.6.1-arm64-arm-64bit\n",
      "\u001b[0m11:18:36  Encountered an error:\n",
      "local variable 'summary_message' referenced before assignment\n",
      "\u001b[0m11:18:36  Traceback (most recent call last):\n",
      "  File \"/Users/samstreumer/.pyenv/versions/3.10.0/lib/python3.10/site-packages/dbt/cli/requires.py\", line 153, in wrapper\n",
      "    result, success = func(*args, **kwargs)\n",
      "  File \"/Users/samstreumer/.pyenv/versions/3.10.0/lib/python3.10/site-packages/dbt/cli/requires.py\", line 103, in wrapper\n",
      "    return func(*args, **kwargs)\n",
      "  File \"/Users/samstreumer/.pyenv/versions/3.10.0/lib/python3.10/site-packages/dbt/cli/main.py\", line 414, in debug\n",
      "    results = task.run()\n",
      "  File \"/Users/samstreumer/.pyenv/versions/3.10.0/lib/python3.10/site-packages/dbt/task/debug.py\", line 114, in run\n",
      "    load_profile_status: SubtaskStatus = self._load_profile()\n",
      "  File \"/Users/samstreumer/.pyenv/versions/3.10.0/lib/python3.10/site-packages/dbt/task/debug.py\", line 201, in _load_profile\n",
      "    profile_names, summary_message = self._choose_profile_names()\n",
      "  File \"/Users/samstreumer/.pyenv/versions/3.10.0/lib/python3.10/site-packages/dbt/task/debug.py\", line 276, in _choose_profile_names\n",
      "    return profiles, summary_message\n",
      "UnboundLocalError: local variable 'summary_message' referenced before assignment\n",
      "\n"
     ]
    }
   ],
   "source": [
    "!dbt debug"
   ]
  }
 ],
 "metadata": {
  "kernelspec": {
   "display_name": "3.10.0",
   "language": "python",
   "name": "python3"
  },
  "language_info": {
   "codemirror_mode": {
    "name": "ipython",
    "version": 3
   },
   "file_extension": ".py",
   "mimetype": "text/x-python",
   "name": "python",
   "nbconvert_exporter": "python",
   "pygments_lexer": "ipython3",
   "version": "3.10.0"
  }
 },
 "nbformat": 4,
 "nbformat_minor": 2
}
